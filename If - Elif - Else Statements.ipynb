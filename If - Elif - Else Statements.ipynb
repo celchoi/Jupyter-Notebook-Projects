{
 "cells": [
  {
   "cell_type": "markdown",
   "id": "006f70bb",
   "metadata": {},
   "source": [
    "# If - Elif - Else Statements"
   ]
  },
  {
   "cell_type": "code",
   "execution_count": 1,
   "id": "6e349089",
   "metadata": {},
   "outputs": [
    {
     "name": "stdout",
     "output_type": "stream",
     "text": [
      "it worked\n"
     ]
    }
   ],
   "source": [
    "if 25 > 10:\n",
    "    print('it worked')"
   ]
  },
  {
   "cell_type": "code",
   "execution_count": 4,
   "id": "5a3ddb8f",
   "metadata": {},
   "outputs": [
    {
     "name": "stdout",
     "output_type": "stream",
     "text": [
      "it worked\n"
     ]
    }
   ],
   "source": [
    "if 25 > 10:\n",
    "    print('it worked')\n",
    "else:\n",
    "    print('it did not work...')"
   ]
  },
  {
   "cell_type": "code",
   "execution_count": 5,
   "id": "c3e9977d",
   "metadata": {},
   "outputs": [
    {
     "name": "stdout",
     "output_type": "stream",
     "text": [
      "it did not work...\n"
     ]
    }
   ],
   "source": [
    "if 25 < 10:\n",
    "    print('it worked')\n",
    "else:\n",
    "    print('it did not work...')"
   ]
  },
  {
   "cell_type": "code",
   "execution_count": 9,
   "id": "b01e6a09",
   "metadata": {},
   "outputs": [
    {
     "name": "stdout",
     "output_type": "stream",
     "text": [
      "it worked\n"
     ]
    }
   ],
   "source": [
    "if (25 < 10) or (1 < 3):\n",
    "    print('it worked')\n",
    "elif 25 < 20:\n",
    "    print('elif worked')\n",
    "elif 25 < 21:\n",
    "    print('elif 2 worked')\n",
    "elif 25 < 40:\n",
    "    print('elif 3 worked')\n",
    "elif 25 < 50:\n",
    "    print('elif 4 worked')\n",
    "else:\n",
    "    print('it did not work...')"
   ]
  },
  {
   "cell_type": "code",
   "execution_count": null,
   "id": "32097fbc",
   "metadata": {},
   "outputs": [],
   "source": []
  },
  {
   "cell_type": "code",
   "execution_count": 11,
   "id": "b4164732",
   "metadata": {},
   "outputs": [
    {
     "name": "stdout",
     "output_type": "stream",
     "text": [
      "it did not work...\n"
     ]
    }
   ],
   "source": [
    "print('it worked') if 10>30 else print('it did not work...')"
   ]
  },
  {
   "cell_type": "code",
   "execution_count": 13,
   "id": "5168a594",
   "metadata": {},
   "outputs": [
    {
     "name": "stdout",
     "output_type": "stream",
     "text": [
      "it worked\n",
      "this nested if statement worked\n"
     ]
    }
   ],
   "source": [
    "if (25 < 10) or (1 < 3):\n",
    "    print('it worked')\n",
    "    if 10 > 5:\n",
    "        print('this nested if statement worked')\n",
    "elif 25 < 20:\n",
    "    print('elif worked')\n",
    "elif 25 < 21:\n",
    "    print('elif 2 worked')\n",
    "elif 25 < 40:\n",
    "    print('elif 3 worked')\n",
    "elif 25 < 50:\n",
    "    print('elif 4 worked')\n",
    "else:\n",
    "    print('it did not work...')"
   ]
  },
  {
   "cell_type": "code",
   "execution_count": null,
   "id": "8e1b2fb2",
   "metadata": {},
   "outputs": [],
   "source": []
  },
  {
   "cell_type": "code",
   "execution_count": null,
   "id": "446088d7",
   "metadata": {},
   "outputs": [],
   "source": []
  },
  {
   "cell_type": "code",
   "execution_count": null,
   "id": "fe800fb1",
   "metadata": {},
   "outputs": [],
   "source": []
  }
 ],
 "metadata": {
  "kernelspec": {
   "display_name": "Python 3 (ipykernel)",
   "language": "python",
   "name": "python3"
  },
  "language_info": {
   "codemirror_mode": {
    "name": "ipython",
    "version": 3
   },
   "file_extension": ".py",
   "mimetype": "text/x-python",
   "name": "python",
   "nbconvert_exporter": "python",
   "pygments_lexer": "ipython3",
   "version": "3.11.3"
  }
 },
 "nbformat": 4,
 "nbformat_minor": 5
}
